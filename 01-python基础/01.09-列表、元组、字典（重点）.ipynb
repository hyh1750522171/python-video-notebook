{
 "cells": [
  {
   "cell_type": "markdown",
   "metadata": {},
   "source": [
    "# 高级变量类型\n",
    "\n",
    "## 目标\n",
    "\n",
    "* 列表\n",
    "* 元组\n",
    "* 字典\n",
    "* 字符串\n",
    "* 公共方法\n",
    "* 变量高级\n",
    "\n",
    "### 知识点回顾\n",
    "\n",
    "* Python 中数据类型可以分为 **数字型** 和 **非数字型**\n",
    "* 数字型\n",
    "    * 整型 (`int`)\n",
    "    * 浮点型（`float`）\n",
    "    * 布尔型（`bool`） \n",
    "        * 真 `True` `非 0 数` —— **非零即真**\n",
    "        * 假 `False` `0`\n",
    "    * 复数型 (`complex`)\n",
    "        * 主要用于科学计算，例如：平面场问题、波动问题、电感电容等问题\n",
    "* 非数字型\n",
    "    * 字符串\n",
    "    * 列表\n",
    "    * 元组\n",
    "    * 字典\n",
    "\n",
    "* 在 `Python` 中，所有 **非数字型变量** 都支持以下特点：\n",
    "    1. 都是一个 **序列** `sequence`，也可以理解为 **容器**\n",
    "    2. **取值** `[]`\n",
    "    3. **遍历** `for in`\n",
    "    4. **计算长度**、**最大/最小值**、**比较**、**删除**\n",
    "    5. **链接** `+` 和 **重复** `*`\n",
    "    6. **切片**\n",
    "\n",
    "## 01. 列表\n",
    "\n",
    "### 1.1 列表的定义\n",
    "\n",
    "* `List`（列表） 是 `Python` 中使用 **最频繁** 的数据类型，在其他语言中通常叫做 **数组**\n",
    "* 专门用于存储 **一串 信息**\n",
    "* 列表用 `[]` 定义，**数据** 之间使用 `,` 分隔\n",
    "* 列表的 **索引** 从 `0` 开始\n",
    "    * **索引** 就是数据在 **列表** 中的位置编号，**索引** 又可以被称为 **下标**\n",
    "    \n",
    "> 注意：从列表中取值时，如果 **超出索引范围**，程序会报错\n"
   ]
  },
  {
   "cell_type": "code",
   "execution_count": 1,
   "metadata": {},
   "outputs": [
    {
     "data": {
      "text/plain": [
       "['zhangsan', 'lisi', 'wangwu']"
      ]
     },
     "execution_count": 1,
     "metadata": {},
     "output_type": "execute_result"
    }
   ],
   "source": [
    "name_list = [\"zhangsan\", \"lisi\", \"wangwu\"]\n",
    "name_list"
   ]
  },
  {
   "cell_type": "markdown",
   "metadata": {},
   "source": [
    "\n",
    "![001_列表示意图](./res/001_列表示意图.png)\n",
    "\n",
    "### 1.2 列表常用操作\n",
    "\n",
    "* 在 `ipython3` 中定义一个 **列表**，例如：`name_list = []`\n",
    "* 输入 `name_list.` 按下 `TAB` 键，`ipython` 会提示 **列表** 能够使用的 **方法** 如下：\n",
    "\n",
    "```\n",
    "In [1]: name_list.\n",
    "name_list.append   name_list.count    name_list.insert   name_list.reverse\n",
    "name_list.clear    name_list.extend   name_list.pop      name_list.sort\n",
    "name_list.copy     name_list.index    name_list.remove \n",
    "```\n",
    "\n",
    "| 序号 | 分类 | 关键字 / 函数 / 方法 | 说明 |\n",
    "| --- | --- | --- | --- |\n",
    "| 1 | 增加 | 列表.insert(索引, 数据) | 在指定位置插入数据 |\n",
    "|  |  | 列表.append(数据) | 在末尾追加数据\n",
    "|  |  | 列表.extend(列表2) | 将列表2 的数据追加到列表 | \n",
    "| 2 | 修改 | 列表[索引] = 数据 | 修改指定索引的数据 |\n",
    "| 3 | 删除 | del 列表[索引] | 删除指定索引的数据 |\n",
    "|  |  | 列表.remove[数据] | 删除第一个出现的指定数据 |\n",
    "|  |  | 列表.pop | 删除末尾数据 |\n",
    "|  |  | 列表.pop(索引) | 删除指定索引数据 |\n",
    "|  |  | 列表.clear | 清空列表 |\n",
    "| 4 | 统计 | len(列表) | 列表长度 |\n",
    "|  |  | 列表.count(数据) | 数据在列表中出现的次数 |\n",
    "| 5 | 排序 | 列表.sort() | 升序排序 |\n",
    "|  |  | 列表.sort(reverse=True) | 降序排序 |\n",
    "|  |  | 列表.reverse() | 逆序、反转 |\n",
    "\n",
    "#### del 关键字（科普）\n",
    "\n",
    "* 使用 `del` 关键字(`delete`) 同样可以删除列表中元素\n",
    "* `del` 关键字本质上是用来 **将一个变量从内存中删除的**\n",
    "* 如果使用 `del` 关键字将变量从内存中删除，后续的代码就不能再使用这个变量了\n"
   ]
  },
  {
   "cell_type": "code",
   "execution_count": 2,
   "metadata": {},
   "outputs": [],
   "source": [
    "del name_list[1]"
   ]
  },
  {
   "cell_type": "markdown",
   "metadata": {},
   "source": [
    "> 在日常开发中，要从列表删除数据，建议 **使用列表提供的方法**\n",
    "\n",
    "#### 关键字、函数和方法（科普）\n",
    "\n",
    "* **关键字** 是 Python 内置的、具有特殊意义的标识符\n",
    "\n",
    "\n"
   ]
  },
  {
   "cell_type": "code",
   "execution_count": 3,
   "metadata": {},
   "outputs": [
    {
     "name": "stdout",
     "output_type": "stream",
     "text": [
      "['False', 'None', 'True', 'and', 'as', 'assert', 'async', 'await', 'break', 'class', 'continue', 'def', 'del', 'elif', 'else', 'except', 'finally', 'for', 'from', 'global', 'if', 'import', 'in', 'is', 'lambda', 'nonlocal', 'not', 'or', 'pass', 'raise', 'return', 'try', 'while', 'with', 'yield']\n",
      "35\n"
     ]
    }
   ],
   "source": [
    "import keyword\n",
    "print(keyword.kwlist)\n",
    "print(len(keyword.kwlist))"
   ]
  },
  {
   "cell_type": "markdown",
   "metadata": {},
   "source": [
    "> 关键字后面不需要使用括号\n",
    "\n",
    "* **函数** 封装了独立功能，可以直接调用\n",
    "\n",
    "```python\n",
    "函数名(参数)\n",
    "```\n",
    "\n",
    "> 函数需要死记硬背\n",
    "\n",
    "* **方法** 和函数类似，同样是封装了独立的功能\n",
    "* **方法** 需要通过 **对象** 来调用，表示针对这个 **对象** 要做的操作\n",
    "\n",
    "```python\n",
    "对象.方法名(参数)\n",
    "```\n",
    "\n",
    "> 在变量后面输入 `.`，然后选择针对这个变量要执行的操作，记忆起来比函数要简单很多\n",
    "### 1.3 循环遍历\n",
    "\n",
    "* **遍历** 就是 **从头到尾** **依次** 从 **列表** 中获取数据\n",
    "    * 在 **循环体内部** 针对 **每一个元素**，执行相同的操作\n",
    "    \n",
    "* 在 `Python` 中为了提高列表的遍历效率，专门提供的 **迭代 iteration 遍历**\n",
    "* 使用 `for` 就能够实现迭代遍历\n"
   ]
  },
  {
   "cell_type": "code",
   "execution_count": 4,
   "metadata": {},
   "outputs": [
    {
     "name": "stdout",
     "output_type": "stream",
     "text": [
      "zhangsan\n",
      "lisi\n",
      "wangwu\n"
     ]
    }
   ],
   "source": [
    "name_list = [\"zhangsan\", \"lisi\", \"wangwu\"]\n",
    "# for 循环内部使用的变量 in 列表\n",
    "for name in name_list:\n",
    "\n",
    "    #循环内部针对列表元素进行操作\n",
    "    print(name)"
   ]
  },
  {
   "cell_type": "markdown",
   "metadata": {},
   "source": [
    "![002_forin循环流程图-w420](./res/002_forin循环流程图.png)\n",
    "\n",
    "\n",
    "### 1.4 **应用场景** \n",
    "\n",
    "* 尽管 `Python` 的 **列表** 中可以 **存储不同类型的数据**\n",
    "* 但是在开发中，更多的应用场景是\n",
    "    1. **列表** 存储相同类型的数据\n",
    "    2. 通过 **迭代遍历**，在循环体内部，针对列表中的每一项元素，执行相同的操作\n",
    "\n",
    "## 02. 元组\n",
    "\n",
    "### 2.1 元组的定义\n",
    "\n",
    "* `Tuple`（元组）与列表类似，不同之处在于元组的 **元素不能修改**\n",
    "    * **元组** 表示多个元素组成的序列\n",
    "    * **元组** 在 `Python` 开发中，有特定的应用场景\n",
    "* 用于存储 **一串 信息**，**数据** 之间使用 `,` 分隔\n",
    "* 元组用 `()` 定义\n",
    "* 元组的 **索引** 从 `0` 开始\n",
    "    * **索引** 就是数据在 **元组** 中的位置编号"
   ]
  },
  {
   "cell_type": "code",
   "execution_count": 5,
   "metadata": {},
   "outputs": [],
   "source": [
    "info_tuple = (\"zhangsan\", 18, 1.75)"
   ]
  },
  {
   "cell_type": "code",
   "execution_count": 6,
   "metadata": {},
   "outputs": [],
   "source": [
    "info_tuple = ()"
   ]
  },
  {
   "cell_type": "code",
   "execution_count": 7,
   "metadata": {},
   "outputs": [],
   "source": [
    "#### 元组中 **只包含一个元素** 时，需要 **在元素后面添加逗号**"
   ]
  },
  {
   "cell_type": "code",
   "execution_count": 8,
   "metadata": {},
   "outputs": [],
   "source": [
    "info_tuple = (50, )"
   ]
  },
  {
   "cell_type": "markdown",
   "metadata": {},
   "source": [
    "![003_元组示意图-w500](./res/003_元组示意图.png)\n",
    "\n",
    "\n",
    "### 2.2 元组常用操作\n",
    "\n",
    "* 在 `ipython3` 中定义一个 **元组**，例如：`info = ()`\n",
    "* 输入 `info.` 按下 `TAB` 键，`ipython` 会提示 **元组** 能够使用的函数如下："
   ]
  },
  {
   "cell_type": "code",
   "execution_count": 9,
   "metadata": {},
   "outputs": [],
   "source": [
    "# info.count  info.index\n"
   ]
  },
  {
   "cell_type": "markdown",
   "metadata": {},
   "source": [
    "> 有关 **元组** 的 **常用操作** 可以参照上图练习\n",
    "\n",
    "### 2.3 循环遍历\n",
    "\n",
    "* **取值** 就是从 **元组** 中获取存储在指定位置的数据\n",
    "* **遍历** 就是 **从头到尾** **依次** 从 **元组** 中获取数据\n"
   ]
  },
  {
   "cell_type": "code",
   "execution_count": 12,
   "metadata": {},
   "outputs": [
    {
     "name": "stdout",
     "output_type": "stream",
     "text": [
      "50\n",
      "62\n",
      "45\n",
      "44\n",
      "45\n"
     ]
    }
   ],
   "source": [
    "info_tuple = (50, 62, 45, 44, 45)\n",
    "# for 循环内部使用的变量 in 元组\n",
    "for item in info_tuple:\n",
    "\n",
    "    # 循环内部针对元组元素进行操作\n",
    "    print(item)\n"
   ]
  },
  {
   "cell_type": "markdown",
   "metadata": {},
   "source": [
    "\n",
    "> * 在 `Python` 中，可以使用 `for` 循环遍历所有非数字型类型的变量：**列表**、**元组**、**字典** 以及 **字符串**\n",
    "> * 提示：在实际开发中，除非 **能够确认元组中的数据类型**，否则针对元组的循环遍历需求并不是很多\n",
    "\n",
    "### 2.4 应用场景\n",
    "\n",
    "* 尽管可以使用 `for in` 遍历 **元组**\n",
    "* 但是在开发中，更多的应用场景是：\n",
    "    * **函数的 参数 和 返回值**，一个函数可以接收 **任意多个参数**，或者 **一次返回多个数据**\n",
    "        * 有关 **函数的参数 和 返回值**，在后续 **函数高级** 给大家介绍\n",
    "    * **格式字符串**，格式化字符串后面的 `()` 本质上就是一个元组\n",
    "    * **让列表不可以被修改**，以保护数据安全\n"
   ]
  },
  {
   "cell_type": "code",
   "execution_count": 13,
   "metadata": {},
   "outputs": [
    {
     "name": "stdout",
     "output_type": "stream",
     "text": [
      "zhangsan 的年龄是 18\n"
     ]
    }
   ],
   "source": [
    "info = (\"zhangsan\", 18)\n",
    "\n",
    "print(\"%s 的年龄是 %d\" % info)"
   ]
  },
  {
   "cell_type": "markdown",
   "metadata": {},
   "source": [
    "#### 元组和列表之间的转换\n",
    "\n",
    "* 使用 `list` 函数可以把元组转换成列表\n",
    "\n",
    "```python\n",
    "list(元组) \n",
    "```\n",
    "\n",
    "* 使用 `tuple` 函数可以把列表转换成元组\n",
    "\n",
    "```python\n",
    "tuple(列表)\n",
    "```\n",
    "\n",
    "## 03. 字典\n",
    "\n",
    "### 3.1 字典的定义\n",
    "\n",
    "* `dictionary`（字典） 是 **除列表以外** `Python` 之中 **最灵活** 的数据类型\n",
    "* 字典同样可以用来 **存储多个数据**\n",
    "    * 通常用于存储 **描述一个 `物体` 的相关信息** \n",
    "* 和列表的区别\n",
    "    * **列表** 是 **有序** 的对象集合\n",
    "    * **字典** 是 **无序** 的对象集合\n",
    "* 字典用 `{}` 定义\n",
    "* 字典使用 **键值对** 存储数据，键值对之间使用 `,` 分隔\n",
    "    * **键** `key` 是索引\n",
    "    * **值** `value` 是数据\n",
    "    * **键** 和 **值** 之间使用 `:` 分隔\n",
    "    * **键必须是唯一的**\n",
    "    * **值** 可以取任何数据类型，但 **键** 只能使用 **字符串**、**数字**或 **元组**\n"
   ]
  },
  {
   "cell_type": "code",
   "execution_count": 14,
   "metadata": {},
   "outputs": [],
   "source": [
    "xiaoming = {\"name\": \"小明\",\n",
    "            \"age\": 18,\n",
    "            \"gender\": True,\n",
    "            \"height\": 1.75}"
   ]
  },
  {
   "cell_type": "markdown",
   "metadata": {},
   "source": [
    "![002_字典示意图](./res/002_字典示意图.png)\n",
    "\n",
    "### 3.2 字典常用操作\n",
    "\n",
    "* 在 `ipython3` 中定义一个 **字典**，例如：`xiaoming = {}`\n",
    "* 输入 `xiaoming.` 按下 `TAB` 键，`ipython` 会提示 **字典** 能够使用的函数如下：\n",
    "\n",
    "```\n",
    "In [1]: xiaoming.\n",
    "xiaoming.clear       xiaoming.items       xiaoming.setdefault\n",
    "xiaoming.copy        xiaoming.keys        xiaoming.update\n",
    "xiaoming.fromkeys    xiaoming.pop         xiaoming.values\n",
    "xiaoming.get         xiaoming.popitem    \n",
    "```\n",
    "\n",
    "> 有关 **字典** 的 **常用操作** 可以参照上图练习\n",
    "\n",
    "### 3.3 循环遍历\n",
    "\n",
    "* **遍历** 就是 **依次** 从 **字典** 中获取所有键值对"
   ]
  },
  {
   "cell_type": "code",
   "execution_count": 15,
   "metadata": {},
   "outputs": [
    {
     "name": "stdout",
     "output_type": "stream",
     "text": [
      "name: 小明\n",
      "age: 18\n",
      "gender: True\n",
      "height: 1.75\n"
     ]
    }
   ],
   "source": [
    "# for 循环内部使用的 `key 的变量` in 字典\n",
    "for k in xiaoming:\n",
    "\n",
    "    print(\"%s: %s\" % (k, xiaoming[k]))"
   ]
  },
  {
   "cell_type": "markdown",
   "metadata": {},
   "source": [
    "> 提示：在实际开发中，由于字典中每一个键值对保存数据的类型是不同的，所以针对字典的循环遍历需求并不是很多\n",
    "\n",
    "### 3.4 **应用场景** \n",
    "\n",
    "* 尽管可以使用 `for in` 遍历 **字典**\n",
    "* 但是在开发中，更多的应用场景是：\n",
    "    * 使用 **多个键值对**，存储 **描述一个 `物体` 的相关信息** —— 描述更复杂的数据信息\n",
    "    * 将 **多个字典** 放在 **一个列表** 中，再进行遍历，在循环体内部针对每一个字典进行 **相同的处理**\n"
   ]
  },
  {
   "cell_type": "code",
   "execution_count": 16,
   "metadata": {},
   "outputs": [],
   "source": [
    "card_list = [{\"name\": \"张三\",\n",
    "              \"qq\": \"12345\",\n",
    "              \"phone\": \"110\"},\n",
    "             {\"name\": \"李四\",\n",
    "              \"qq\": \"54321\",\n",
    "              \"phone\": \"10086\"}\n",
    "             ]\n"
   ]
  },
  {
   "cell_type": "markdown",
   "metadata": {},
   "source": [
    "## 04. 字符串\n",
    "\n",
    "### 4.1 字符串的定义\n",
    "\n",
    "* **字符串** 就是 **一串字符**，是编程语言中表示文本的数据类型\n",
    "* 在 Python 中可以使用 **一对双引号** `\"` 或者 **一对单引号** `'` 定义一个字符串\n",
    "    * 虽然可以使用 `\\\"` 或者 `\\'` 做字符串的转义，但是在实际开发中：\n",
    "        * 如果字符串内部需要使用 `\"`，可以使用 `'` 定义字符串\n",
    "        * 如果字符串内部需要使用 `'`，可以使用 `\"` 定义字符串\n",
    "* 可以使用 **索引** 获取一个字符串中 **指定位置的字符**，索引计数从 **0** 开始\n",
    "* 也可以使用 `for` **循环遍历** 字符串中每一个字符\n",
    "\n",
    "> 大多数编程语言都是用 `\"` 来定义字符串\n"
   ]
  },
  {
   "cell_type": "code",
   "execution_count": 17,
   "metadata": {},
   "outputs": [
    {
     "name": "stdout",
     "output_type": "stream",
     "text": [
      "H\n",
      "e\n",
      "l\n",
      "l\n",
      "o\n",
      " \n",
      "P\n",
      "y\n",
      "t\n",
      "h\n",
      "o\n",
      "n\n"
     ]
    }
   ],
   "source": [
    "string = \"Hello Python\"\n",
    "\n",
    "for c in string:\n",
    "    print(c)"
   ]
  },
  {
   "cell_type": "markdown",
   "metadata": {},
   "source": [
    "![005_字符串示意图-w500](./res/005_字符串示意图.png)\n",
    "\n",
    "### 4.2 字符串的常用操作\n",
    "\n",
    "* 在 `ipython3` 中定义一个 **字符串**，例如：`hello_str = \"\"`\n",
    "* 输入 `hello_str.` 按下 `TAB` 键，`ipython` 会提示 **字符串** 能够使用的 **方法** 如下：\n",
    "\n",
    "```\n",
    "In [1]: hello_str.\n",
    "hello_str.capitalize    hello_str.isidentifier  hello_str.rindex\n",
    "hello_str.casefold      hello_str.islower       hello_str.rjust\n",
    "hello_str.center        hello_str.isnumeric     hello_str.rpartition\n",
    "hello_str.count         hello_str.isprintable   hello_str.rsplit\n",
    "hello_str.encode        hello_str.isspace       hello_str.rstrip\n",
    "hello_str.endswith      hello_str.istitle       hello_str.split\n",
    "hello_str.expandtabs    hello_str.isupper       hello_str.splitlines\n",
    "hello_str.find          hello_str.join          hello_str.startswith\n",
    "hello_str.format        hello_str.ljust         hello_str.strip\n",
    "hello_str.format_map    hello_str.lower         hello_str.swapcase\n",
    "hello_str.index         hello_str.lstrip        hello_str.title\n",
    "hello_str.isalnum       hello_str.maketrans     hello_str.translate\n",
    "hello_str.isalpha       hello_str.partition     hello_str.upper\n",
    "hello_str.isdecimal     hello_str.replace       hello_str.zfill\n",
    "hello_str.isdigit       hello_str.rfind\n",
    "```\n",
    "\n",
    "> 提示：正是因为 python 内置提供的方法足够多，才使得在开发时，能够针对字符串进行更加灵活的操作！应对更多的开发需求！\n",
    "\n",
    "#### 1) 判断类型 - 9\n",
    "\n",
    "| 方法 | 说明 |\n",
    "| --- | --- |\n",
    "| string.isspace() | 如果 string 中只包含空格，则返回 True |\n",
    "| string.isalnum() | 如果 string 至少有一个字符并且所有字符都是字母或数字则返回 True |\n",
    "| string.isalpha() | 如果 string 至少有一个字符并且所有字符都是字母则返回 True |\n",
    "| string.isdecimal() | 如果 string 只包含数字则返回 True，`全角数字` |\n",
    "| string.isdigit() | 如果 string 只包含数字则返回 True，`全角数字`、`⑴`、`\\u00b2` |\n",
    "| string.isnumeric() | 如果 string 只包含数字则返回 True，`全角数字`，`汉字数字` |\n",
    "| string.istitle() | 如果 string 是标题化的(每个单词的首字母大写)则返回 True |\n",
    "| string.islower() | 如果 string 中包含至少一个区分大小写的字符，并且所有这些(区分大小写的)字符都是小写，则返回 True |\n",
    "| string.isupper() | 如果 string 中包含至少一个区分大小写的字符，并且所有这些(区分大小写的)字符都是大写，则返回 True |\n",
    "\n",
    "#### 2) 查找和替换 - 7\n",
    "\n",
    "| 方法 | 说明 |\n",
    "| --- | --- |\n",
    "| string.startswith(str) | 检查字符串是否是以 str 开头，是则返回 True |\n",
    "| string.endswith(str) | 检查字符串是否是以 str 结束，是则返回 True |\n",
    "| string.find(str, start=0, end=len(string)) | 检测 str 是否包含在 string 中，如果 start 和 end 指定范围，则检查是否包含在指定范围内，如果是返回开始的索引值，否则返回 `-1` |\n",
    "| string.rfind(str, start=0, end=len(string)) | 类似于 find()，不过是从右边开始查找 |\n",
    "| string.index(str, start=0, end=len(string)) | 跟 find() 方法类似，不过如果 str 不在 string 会报错 |\n",
    "| string.rindex(str, start=0, end=len(string)) | 类似于 index()，不过是从右边开始 |\n",
    "| string.replace(old_str, new_str, num=string.count(old)) | 把 string 中的 old_str 替换成 new_str，如果 num 指定，则替换不超过 num 次 |\n",
    "\n",
    "#### 3) 大小写转换 - 5\n",
    "\n",
    "| 方法 | 说明 |\n",
    "| --- | --- |\n",
    "| string.capitalize() | 把字符串的第一个字符大写 |\n",
    "| string.title() | 把字符串的每个单词首字母大写 |\n",
    "| string.lower() | 转换 string 中所有大写字符为小写 |\n",
    "| string.upper() | 转换 string 中的小写字母为大写 |\n",
    "| string.swapcase() | 翻转 string 中的大小写 |\n",
    "\n",
    "#### 4) 文本对齐 - 3\n",
    "\n",
    "| 方法 | 说明 |\n",
    "| --- | --- |\n",
    "| string.ljust(width) | 返回一个原字符串左对齐，并使用空格填充至长度 width 的新字符串 |\n",
    "| string.rjust(width) | 返回一个原字符串右对齐，并使用空格填充至长度 width 的新字符串 |\n",
    "| string.center(width) | 返回一个原字符串居中，并使用空格填充至长度 width 的新字符串 |\n",
    "\n",
    "#### 5) 去除空白字符 - 3\n",
    "\n",
    "| 方法 | 说明 |\n",
    "| --- | --- |\n",
    "| string.lstrip() | 截掉 string 左边（开始）的空白字符 |\n",
    "| string.rstrip() | 截掉 string 右边（末尾）的空白字符 |\n",
    "| string.strip() | 截掉 string 左右两边的空白字符 |\n",
    "\n",
    "#### 6) 拆分和连接 - 5\n",
    "\n",
    "| 方法 | 说明 |\n",
    "| --- | --- |\n",
    "| string.partition(str) | 把字符串 string 分成一个 3 元素的元组 (str前面, str, str后面) |\n",
    "| string.rpartition(str) | 类似于 partition() 方法，不过是从右边开始查找 |\n",
    "| string.split(str=\"\", num) | 以 str 为分隔符拆分 string，如果 num 有指定值，则仅分隔 num + 1 个子字符串，str 默认包含 '\\r', '\\t', '\\n' 和空格 |\n",
    "| string.splitlines() | 按照行('\\r', '\\n', '\\r\\n')分隔，返回一个包含各行作为元素的列表 |\n",
    "| string.join(seq) | 以 string 作为分隔符，将 seq 中所有的元素（的字符串表示）合并为一个新的字符串 |\n",
    "\n",
    "### 4.3 字符串的切片\n",
    "\n",
    "* **切片** 方法适用于 **字符串**、**列表**、**元组**\n",
    "    * **切片** 使用 **索引值** 来限定范围，从一个大的 **字符串** 中 **切出** 小的 **字符串**\n",
    "    * **列表** 和 **元组** 都是 **有序** 的集合，都能够 **通过索引值** 获取到对应的数据\n",
    "    * **字典** 是一个 **无序** 的集合，是使用 **键值对** 保存数据\n",
    "\n",
    "![006_字符串索引示意图](./res/006_字符串索引示意图.png)\n",
    "\n",
    "```\n",
    "字符串[开始索引:结束索引:步长]\n",
    "```\n",
    "\n",
    "**注意**：\n",
    "\n",
    "1. 指定的区间属于 **左闭右开** 型 `[开始索引,  结束索引)` => `开始索引 >= 范围 < 结束索引`\n",
    "    * 从 `起始` 位开始，到 **`结束`位的前一位** 结束（**不包含结束位本身**)\n",
    "2. 从头开始，**开始索引** **数字可以省略，冒号不能省略**\n",
    "3. 到末尾结束，**结束索引** **数字可以省略，冒号不能省略**\n",
    "4. 步长默认为 `1`，如果连续切片，**数字和冒号都可以省略**\n",
    "\n",
    "#### 索引的顺序和倒序\n",
    "\n",
    "* 在 Python 中不仅支持 **顺序索引**，同时还支持 **倒序索引**\n",
    "* 所谓倒序索引就是 **从右向左** 计算索引\n",
    "    * 最右边的索引值是 **-1**，依次递减\n",
    "\n",
    "**演练需求**\n",
    "\n",
    "* 1. 截取从 2 ~ 5 位置 的字符串\n",
    "* 2. 截取从 2 ~ `末尾` 的字符串\n",
    "* 3. 截取从 `开始` ~ 5 位置 的字符串\n",
    "* 4. 截取完整的字符串\n",
    "* 5. 从开始位置，每隔一个字符截取字符串\n",
    "* 6. 从索引 1 开始，每隔一个取一个\n",
    "* 7. 截取从 2 ~ `末尾 - 1` 的字符串\n",
    "* 8. 截取字符串末尾两个字符\n",
    "* 9. 字符串的逆序（面试题）\n",
    "\n",
    "**答案**\n"
   ]
  },
  {
   "cell_type": "code",
   "execution_count": 18,
   "metadata": {},
   "outputs": [
    {
     "name": "stdout",
     "output_type": "stream",
     "text": [
      "2345\n",
      "23456789\n",
      "012345\n",
      "0123456789\n",
      "02468\n",
      "13579\n",
      "9\n",
      "2345678\n",
      "89\n",
      "9876543210\n"
     ]
    }
   ],
   "source": [
    "num_str = \"0123456789\"\n",
    "\n",
    "# 1. 截取从 2 ~ 5 位置 的字符串\n",
    "print(num_str[2:6])\n",
    "\n",
    "# 2. 截取从 2 ~ `末尾` 的字符串\n",
    "print(num_str[2:])\n",
    "\n",
    "# 3. 截取从 `开始` ~ 5 位置 的字符串\n",
    "print(num_str[:6])\n",
    "\n",
    "# 4. 截取完整的字符串\n",
    "print(num_str[:])\n",
    "\n",
    "# 5. 从开始位置，每隔一个字符截取字符串\n",
    "print(num_str[::2])\n",
    "\n",
    "# 6. 从索引 1 开始，每隔一个取一个\n",
    "print(num_str[1::2])\n",
    "\n",
    "# 倒序切片\n",
    "# -1 表示倒数第一个字符\n",
    "print(num_str[-1])\n",
    "\n",
    "# 7. 截取从 2 ~ `末尾 - 1` 的字符串\n",
    "print(num_str[2:-1])\n",
    "\n",
    "# 8. 截取字符串末尾两个字符\n",
    "print(num_str[-2:])\n",
    "\n",
    "# 9. 字符串的逆序（面试题）\n",
    "print(num_str[::-1])"
   ]
  },
  {
   "cell_type": "markdown",
   "metadata": {},
   "source": [
    "## 05. 公共方法\n",
    "\n",
    "### 5.1 Python 内置函数\n",
    "\n",
    "Python 包含了以下内置函数：\n",
    "\n",
    "| 函数 | 描述 | 备注 |\n",
    "| --- | --- | --- |\n",
    "| len(item) | 计算容器中元素个数 | |\n",
    "| del(item) | 删除变量 | del 有两种方式 |\n",
    "| max(item) | 返回容器中元素最大值 | 如果是字典，只针对 key 比较 |\n",
    "| min(item) | 返回容器中元素最小值 | 如果是字典，只针对 key 比较 |\n",
    "| cmp(item1, item2) | 比较两个值，-1 小于/0 相等/1 大于 | Python 3.x 取消了 cmp 函数 |\n",
    "\n",
    "**注意**\n",
    "\n",
    "* **字符串** 比较符合以下规则： \"0\" < \"A\" < \"a\"\n",
    "\n",
    "### 5.2 切片\n",
    "\n",
    "| 描述 | Python 表达式 | 结果 | 支持的数据类型 |\n",
    "| :---: | --- | --- | --- | --- |\n",
    "| 切片 | \"0123456789\"[::-2] | \"97531\" | 字符串、列表、元组 |\n",
    "\n",
    "* **切片** 使用 **索引值** 来限定范围，从一个大的 **字符串** 中 **切出** 小的 **字符串**\n",
    "* **列表** 和 **元组** 都是 **有序** 的集合，都能够 **通过索引值** 获取到对应的数据\n",
    "* **字典** 是一个 **无序** 的集合，是使用 **键值对** 保存数据\n",
    "\n",
    "### 5.3 运算符\n",
    "\n",
    "| 运算符 | Python 表达式 | 结果 | 描述 | 支持的数据类型 |\n",
    "| :---: | --- | --- | --- | --- |\n",
    "| + | [1, 2] + [3, 4] | [1, 2, 3, 4] | 合并 | 字符串、列表、元组 |\n",
    "| * | [\"Hi!\"] * 4 | ['Hi!', 'Hi!', 'Hi!', 'Hi!'] | 重复 | 字符串、列表、元组 |\n",
    "| in | 3 in (1, 2, 3) | True | 元素是否存在 | 字符串、列表、元组、字典 |\n",
    "| not in | 4 not in (1, 2, 3) | True | 元素是否不存在 | 字符串、列表、元组、字典 |\n",
    "| > >= == < <= | (1, 2, 3) < (2, 2, 3) | True | 元素比较 | 字符串、列表、元组 |\n",
    "\n",
    "**注意**\n",
    "\n",
    "* `in` 在对 **字典** 操作时，判断的是 **字典的键**\n",
    "* `in` 和 `not in` 被称为 **成员运算符**\n",
    "\n",
    "#### 成员运算符\n",
    "\n",
    "成员运算符用于 **测试** 序列中是否包含指定的 **成员**\n",
    "\n",
    "| 运算符 | 描述 | 实例 |\n",
    "| --- | --- | --- |\n",
    "| in | 如果在指定的序列中找到值返回 True，否则返回 False | `3 in (1, 2, 3)` 返回 `True` |\n",
    "| not in | 如果在指定的序列中没有找到值返回 True，否则返回 False | `3 not in (1, 2, 3)` 返回 `False` |\n",
    "\n",
    "注意：在对 **字典** 操作时，判断的是 **字典的键**\n",
    "\n",
    "### 5.4 完整的 for 循环语法\n",
    "\n",
    "* 在 `Python` 中完整的 `for 循环` 的语法如下：\n",
    "\n",
    "```python\n",
    "for 变量 in 集合:\n",
    "    \n",
    "    循环体代码\n",
    "else:\n",
    "    没有通过 break 退出循环，循环结束后，会执行的代码\n",
    "```\n",
    "\n",
    "#### 应用场景\n",
    "\n",
    "* 在 **迭代遍历** 嵌套的数据类型时，例如 **一个列表包含了多个字典**\n",
    "* 需求：要判断 某一个字典中 是否存在 指定的 值 \n",
    "    * 如果 **存在**，提示并且退出循环\n",
    "    * 如果 **不存在**，在 **循环整体结束** 后，希望 **得到一个统一的提示**"
   ]
  },
  {
   "cell_type": "code",
   "execution_count": 19,
   "metadata": {},
   "outputs": [
    {
     "name": "stdout",
     "output_type": "stream",
     "text": [
      "{'name': '阿土', 'age': 20, 'gender': True, 'height': 1.7, 'weight': 75.0}\n",
      "找到了\n",
      "循环结束\n"
     ]
    }
   ],
   "source": [
    "students = [\n",
    "    {\"name\": \"阿土\",\n",
    "     \"age\": 20,\n",
    "     \"gender\": True,\n",
    "     \"height\": 1.7,\n",
    "     \"weight\": 75.0},\n",
    "    {\"name\": \"小美\",\n",
    "     \"age\": 19,\n",
    "     \"gender\": False,\n",
    "     \"height\": 1.6,\n",
    "     \"weight\": 45.0},\n",
    "]\n",
    "\n",
    "find_name = \"阿土\"\n",
    "\n",
    "for stu_dict in students:\n",
    "\n",
    "    print(stu_dict)\n",
    "\n",
    "    # 判断当前遍历的字典中姓名是否为find_name\n",
    "    if stu_dict[\"name\"] == find_name:\n",
    "        print(\"找到了\")\n",
    "\n",
    "        # 如果已经找到，直接退出循环，就不需要再对后续的数据进行比较\n",
    "        break\n",
    "\n",
    "else:\n",
    "    print(\"没有找到\")\n",
    "\n",
    "print(\"循环结束\")"
   ]
  }
 ],
 "metadata": {
  "kernelspec": {
   "display_name": "Python 3",
   "language": "python",
   "name": "python3"
  },
  "language_info": {
   "codemirror_mode": {
    "name": "ipython",
    "version": 3
   },
   "file_extension": ".py",
   "mimetype": "text/x-python",
   "name": "python",
   "nbconvert_exporter": "python",
   "pygments_lexer": "ipython3",
   "version": "3.7.2"
  },
  "toc": {
   "base_numbering": 1,
   "nav_menu": {},
   "number_sections": true,
   "sideBar": true,
   "skip_h1_title": false,
   "title_cell": "Table of Contents",
   "title_sidebar": "Contents",
   "toc_cell": false,
   "toc_position": {},
   "toc_section_display": true,
   "toc_window_display": false
  }
 },
 "nbformat": 4,
 "nbformat_minor": 2
}
