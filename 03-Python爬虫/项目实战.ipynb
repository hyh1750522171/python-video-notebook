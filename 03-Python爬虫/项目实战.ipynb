{
 "cells": [
  {
   "cell_type": "code",
   "execution_count": 2,
   "metadata": {},
   "outputs": [],
   "source": [
    "import requests\n",
    "import pandas as pd "
   ]
  },
  {
   "cell_type": "code",
   "execution_count": 14,
   "metadata": {},
   "outputs": [],
   "source": [
    "# 爬取网页地址\n",
    "url = ['https://www.marketbeat.com/stocks/NYSE/SPG/institutional-ownership/','https://www.marketbeat.com/stocks/NYSE/BILL/institutional-ownership/']\n",
    "# 请求headers 模拟谷歌浏览器访问\n",
    "headers = {\n",
    "    'User-Agent': 'Mozilla/5.0 (Windows NT 10.0; Win64; x64) AppleWebKit/537.36 (KHTML, like Gecko) Chrome/69.0.3497.100 Safari/537.36'\n",
    "}\n"
   ]
  },
  {
   "cell_type": "code",
   "execution_count": 15,
   "metadata": {},
   "outputs": [],
   "source": [
    "def reque(url):\n",
    "    return requests.get(url=url,headers=headers).text\n"
   ]
  },
  {
   "cell_type": "code",
   "execution_count": 29,
   "metadata": {
    "scrolled": true
   },
   "outputs": [
    {
     "data": {
      "text/html": [
       "<div>\n",
       "<style scoped>\n",
       "    .dataframe tbody tr th:only-of-type {\n",
       "        vertical-align: middle;\n",
       "    }\n",
       "\n",
       "    .dataframe tbody tr th {\n",
       "        vertical-align: top;\n",
       "    }\n",
       "\n",
       "    .dataframe thead th {\n",
       "        text-align: right;\n",
       "    }\n",
       "</style>\n",
       "<table border=\"1\" class=\"dataframe\">\n",
       "  <thead>\n",
       "    <tr style=\"text-align: right;\">\n",
       "      <th></th>\n",
       "      <th>Company</th>\n",
       "      <th>Sector</th>\n",
       "      <th>Industry</th>\n",
       "      <th>Number of Ratings</th>\n",
       "      <th>Consensus Rating</th>\n",
       "      <th>Consensus Price Target</th>\n",
       "    </tr>\n",
       "  </thead>\n",
       "  <tbody>\n",
       "    <tr>\n",
       "      <th>0</th>\n",
       "      <td>AAPLApple</td>\n",
       "      <td>Computer and Technology</td>\n",
       "      <td>Electronic computers</td>\n",
       "      <td>3124</td>\n",
       "      <td>Buy</td>\n",
       "      <td>$108.33</td>\n",
       "    </tr>\n",
       "    <tr>\n",
       "      <th>1</th>\n",
       "      <td>AMZNAmazon.com</td>\n",
       "      <td>Retail/Wholesale</td>\n",
       "      <td>Catalog &amp; mail-order houses</td>\n",
       "      <td>1991</td>\n",
       "      <td>Buy</td>\n",
       "      <td>$3,440.56</td>\n",
       "    </tr>\n",
       "    <tr>\n",
       "      <th>2</th>\n",
       "      <td>FBFacebook</td>\n",
       "      <td>Computer and Technology</td>\n",
       "      <td>Computer programming, data processing, &amp; other...</td>\n",
       "      <td>1879</td>\n",
       "      <td>Buy</td>\n",
       "      <td>$283.16</td>\n",
       "    </tr>\n",
       "    <tr>\n",
       "      <th>3</th>\n",
       "      <td>NFLXNetflix</td>\n",
       "      <td>Consumer Discretionary</td>\n",
       "      <td>Video tape rental</td>\n",
       "      <td>1736</td>\n",
       "      <td>Buy</td>\n",
       "      <td>$518.97</td>\n",
       "    </tr>\n",
       "    <tr>\n",
       "      <th>4</th>\n",
       "      <td>INTCIntel</td>\n",
       "      <td>Computer and Technology</td>\n",
       "      <td>Semiconductors &amp; related devices</td>\n",
       "      <td>1621</td>\n",
       "      <td>Hold</td>\n",
       "      <td>$61.50</td>\n",
       "    </tr>\n",
       "  </tbody>\n",
       "</table>\n",
       "</div>"
      ],
      "text/plain": [
       "          Company                   Sector  \\\n",
       "0       AAPLApple  Computer and Technology   \n",
       "1  AMZNAmazon.com         Retail/Wholesale   \n",
       "2      FBFacebook  Computer and Technology   \n",
       "3     NFLXNetflix   Consumer Discretionary   \n",
       "4       INTCIntel  Computer and Technology   \n",
       "\n",
       "                                            Industry Number of Ratings  \\\n",
       "0                               Electronic computers              3124   \n",
       "1                        Catalog & mail-order houses              1991   \n",
       "2  Computer programming, data processing, & other...              1879   \n",
       "3                                  Video tape rental              1736   \n",
       "4                   Semiconductors & related devices              1621   \n",
       "\n",
       "  Consensus Rating Consensus Price Target  \n",
       "0              Buy                $108.33  \n",
       "1              Buy              $3,440.56  \n",
       "2              Buy                $283.16  \n",
       "3              Buy                $518.97  \n",
       "4             Hold                 $61.50  "
      ]
     },
     "execution_count": 29,
     "metadata": {},
     "output_type": "execute_result"
    }
   ],
   "source": [
    "urls = 'https://www.marketbeat.com/stocks/NASDAQ/'\n",
    "dfs = pd.read_html(reque(urls))\n",
    "dfs[0].head()"
   ]
  },
  {
   "cell_type": "code",
   "execution_count": 20,
   "metadata": {},
   "outputs": [],
   "source": [
    "df = pd.DataFrame(dfs[0])"
   ]
  },
  {
   "cell_type": "code",
   "execution_count": 25,
   "metadata": {},
   "outputs": [
    {
     "data": {
      "text/plain": [
       "'BILL'"
      ]
     },
     "execution_count": 25,
     "metadata": {},
     "output_type": "execute_result"
    }
   ],
   "source": [
    "name = url.split('/')[5]\n",
    "name"
   ]
  },
  {
   "cell_type": "code",
   "execution_count": null,
   "metadata": {},
   "outputs": [],
   "source": [
    "df.to_excel(\"hello.xlsx\",sheet_name=name)"
   ]
  },
  {
   "cell_type": "code",
   "execution_count": 13,
   "metadata": {},
   "outputs": [
    {
     "data": {
      "text/html": [
       "<div>\n",
       "<style scoped>\n",
       "    .dataframe tbody tr th:only-of-type {\n",
       "        vertical-align: middle;\n",
       "    }\n",
       "\n",
       "    .dataframe tbody tr th {\n",
       "        vertical-align: top;\n",
       "    }\n",
       "\n",
       "    .dataframe thead th {\n",
       "        text-align: right;\n",
       "    }\n",
       "</style>\n",
       "<table border=\"1\" class=\"dataframe\">\n",
       "  <thead>\n",
       "    <tr style=\"text-align: right;\">\n",
       "      <th></th>\n",
       "      <th>0</th>\n",
       "      <th>1</th>\n",
       "    </tr>\n",
       "  </thead>\n",
       "  <tbody>\n",
       "    <tr>\n",
       "      <th>0</th>\n",
       "      <td>NaN</td>\n",
       "      <td>Read Your Daily Newsletter</td>\n",
       "    </tr>\n",
       "    <tr>\n",
       "      <th>1</th>\n",
       "      <td>NaN</td>\n",
       "      <td>Check Out My MarketBeat</td>\n",
       "    </tr>\n",
       "    <tr>\n",
       "      <th>2</th>\n",
       "      <td>NaN</td>\n",
       "      <td>Watch Our Tutorial Videos</td>\n",
       "    </tr>\n",
       "    <tr>\n",
       "      <th>3</th>\n",
       "      <td>NaN</td>\n",
       "      <td>Add a Stock to Your Watchlist</td>\n",
       "    </tr>\n",
       "    <tr>\n",
       "      <th>4</th>\n",
       "      <td>NaN</td>\n",
       "      <td>Set Up an Instant Alert</td>\n",
       "    </tr>\n",
       "    <tr>\n",
       "      <th>5</th>\n",
       "      <td>NaN</td>\n",
       "      <td>View a Company's Profile Page</td>\n",
       "    </tr>\n",
       "    <tr>\n",
       "      <th>6</th>\n",
       "      <td>NaN</td>\n",
       "      <td>View Our Financial Calendars</td>\n",
       "    </tr>\n",
       "    <tr>\n",
       "      <th>7</th>\n",
       "      <td>NaN</td>\n",
       "      <td>View Today's Analyst Ratings</td>\n",
       "    </tr>\n",
       "  </tbody>\n",
       "</table>\n",
       "</div>"
      ],
      "text/plain": [
       "    0                              1\n",
       "0 NaN     Read Your Daily Newsletter\n",
       "1 NaN        Check Out My MarketBeat\n",
       "2 NaN      Watch Our Tutorial Videos\n",
       "3 NaN  Add a Stock to Your Watchlist\n",
       "4 NaN        Set Up an Instant Alert\n",
       "5 NaN  View a Company's Profile Page\n",
       "6 NaN   View Our Financial Calendars\n",
       "7 NaN   View Today's Analyst Ratings"
      ]
     },
     "execution_count": 13,
     "metadata": {},
     "output_type": "execute_result"
    }
   ],
   "source": [
    "df[2]"
   ]
  }
 ],
 "metadata": {
  "kernelspec": {
   "display_name": "Python 3",
   "language": "python",
   "name": "python3"
  },
  "language_info": {
   "codemirror_mode": {
    "name": "ipython",
    "version": 3
   },
   "file_extension": ".py",
   "mimetype": "text/x-python",
   "name": "python",
   "nbconvert_exporter": "python",
   "pygments_lexer": "ipython3",
   "version": "3.7.2"
  },
  "toc": {
   "base_numbering": 1,
   "nav_menu": {},
   "number_sections": true,
   "sideBar": true,
   "skip_h1_title": false,
   "title_cell": "Table of Contents",
   "title_sidebar": "Contents",
   "toc_cell": false,
   "toc_position": {},
   "toc_section_display": true,
   "toc_window_display": false
  }
 },
 "nbformat": 4,
 "nbformat_minor": 2
}
